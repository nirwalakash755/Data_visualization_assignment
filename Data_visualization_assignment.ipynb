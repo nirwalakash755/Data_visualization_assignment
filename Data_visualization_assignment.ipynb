{
 "cells": [
  {
   "cell_type": "code",
   "execution_count": null,
   "id": "797226d2-3f33-4683-99f8-47834082a77b",
   "metadata": {},
   "outputs": [],
   "source": [
    "# MATPLOTLIB AGGIGNMENT"
   ]
  },
  {
   "cell_type": "code",
   "execution_count": null,
   "id": "43d187ed-9c29-4832-a5b4-c0e0ef1ca034",
   "metadata": {},
   "outputs": [],
   "source": [
    "#Question.1>> Create a scatter plot using Matplotlib to visualize the relationship between two arrays, x and y for the given data.\n",
    "import matplotlib.pyplot as plt\n",
    "import numpy as np\n",
    "x = [1,2,3,4,5,6,7,8,9,10]\n",
    "y = [2,4,5,7,6,8,9,10,12,13]\n",
    "\n",
    "plt.scatter(x,y)\n",
    "plt.show()"
   ]
  },
  {
   "cell_type": "code",
   "execution_count": null,
   "id": "c65edf8b-7f4b-4dc3-83cc-ecda8963008f",
   "metadata": {},
   "outputs": [],
   "source": [
    "#Question.2>> Generate a line plot to visualizes the trend of values for the given data.\n",
    "#1st method\n",
    "data = np.array([3,7,9,15,22,29,35])\n",
    "plt.plot(data)\n",
    "plt.show()"
   ]
  },
  {
   "cell_type": "code",
   "execution_count": null,
   "id": "bfe78a38-27fa-4c4a-b602-7008a4fff033",
   "metadata": {},
   "outputs": [],
   "source": [
    "#2nd method\n",
    "data = np.array([3,7,9,15,22,29,35])\n",
    "y = data*2\n",
    "plt.plot(data,y)\n",
    "plt.show()"
   ]
  },
  {
   "cell_type": "code",
   "execution_count": null,
   "id": "6af7b5e0-1c6f-4574-9a05-56ae2fb8cb9d",
   "metadata": {},
   "outputs": [],
   "source": [
    "#Question.3>> Display a bar chart to represent the frequency of each item in the given array categories.\n",
    "categories = ['A','B','C','D','E']\n",
    "values = [25,40,30,35,20]\n",
    "plt.barh(categories , values)\n",
    "plt.show()"
   ]
  },
  {
   "cell_type": "code",
   "execution_count": null,
   "id": "c89e5761-5e5b-4400-91ae-f24e83acb97d",
   "metadata": {},
   "outputs": [],
   "source": [
    "#Question.4>> Create a histogram to visualize the distribution of values in the array data.\n",
    "data = np.random.normal(0,1,1000)\n",
    "plt.hist(data, bins=30, color='skyblue', edgecolor='black')\n",
    "plt.xlabel('Values')\n",
    "plt.ylabel('Frequency')\n",
    "plt.title('Basic Histogram')\n",
    "\n",
    "plt.show()"
   ]
  },
  {
   "cell_type": "code",
   "execution_count": null,
   "id": "55dd4b1e-f7eb-4835-80f0-952b5d0c81b0",
   "metadata": {},
   "outputs": [],
   "source": [
    "#Question.5>> Show a pie chart to represent the percentage distribution of different sections in the array 'sections'.\n",
    "sections = ['section A', 'section B', 'section C', 'section D']\n",
    "size = [25, 30, 15, 30]\n",
    "plt.pie(size, labels=sections)\n",
    "plt.show()"
   ]
  },
  {
   "cell_type": "code",
   "execution_count": null,
   "id": "0a1093bd-2f7c-4f78-9015-f10e33681c8e",
   "metadata": {},
   "outputs": [],
   "source": [
    "# SEABORN AGGIGNMENT"
   ]
  },
  {
   "cell_type": "code",
   "execution_count": null,
   "id": "d1e4bff2-b8e5-4942-8710-01747e51ec40",
   "metadata": {},
   "outputs": [],
   "source": [
    "#Question.1>> Create a scatter plot to visualize the relationship between two variables, by generating a synthetic dataset.\n",
    "import seaborn as sns\n",
    "df = sns.load_dataset('tips')\n",
    "df.head()\n",
    "sns.scatterplot(data=df, x='total_bill', y='tip')\n",
    "              "
   ]
  },
  {
   "cell_type": "code",
   "execution_count": null,
   "id": "5731b01c-cdbe-4e02-a569-d88739b80224",
   "metadata": {},
   "outputs": [],
   "source": [
    "#Question.2>> Generate a dataset of random numbers. Visualize the distribution of a numerical variable.\n",
    "import pandas as pd\n",
    "data = {'Name':['john','piter','ironman','jack'],\n",
    "        'Age' :[30,21,29,28],\n",
    "       'Weight':[50,68,80,46]}\n",
    "df = pd.DataFrame(data)\n",
    "sns.scatterplot(data=df,x='Age',y='Weight')"
   ]
  },
  {
   "cell_type": "code",
   "execution_count": null,
   "id": "b70d6c3f-3e31-4fd2-a1be-6443b75ac0ac",
   "metadata": {},
   "outputs": [],
   "source": [
    "#Question.3>> Create a dataset representing categories and their corresponding values. Compare different categories based on numerical values.\n",
    "df = sns.load_dataset('tips')\n",
    "sns.stripplot(x='sex',y='total_bill', data=df)"
   ]
  },
  {
   "cell_type": "code",
   "execution_count": null,
   "id": "65f46175-1938-4892-bef8-027c51db5c50",
   "metadata": {},
   "outputs": [],
   "source": [
    "df = sns.load_dataset('tips')\n",
    "sns.swarmplot(x='sex',y='total_bill', data=df)"
   ]
  },
  {
   "cell_type": "code",
   "execution_count": null,
   "id": "58177f53-69e9-43b1-9b19-6301a05635b0",
   "metadata": {},
   "outputs": [],
   "source": [
    "#Question.4>> Generate a dataset with categories and numerical values. Visualize the distribution of a numerical variable across different \n",
    "# categories.\n",
    "df = sns.load_dataset('tips')\n",
    "sns.violinplot(x='day', y='total_bill', data=df)"
   ]
  },
  {
   "cell_type": "code",
   "execution_count": null,
   "id": "a3f2726c-a9d0-47d2-9ed3-9da302fd8d54",
   "metadata": {},
   "outputs": [],
   "source": [
    "df = sns.load_dataset('tips')\n",
    "sns.scatterplot(x='day', y='total_bill', data=df)"
   ]
  },
  {
   "cell_type": "code",
   "execution_count": null,
   "id": "fc5a486c-1b02-4323-9981-a3eab9193d93",
   "metadata": {},
   "outputs": [],
   "source": [
    "#Question.5>> Generate a synthetic dataset with corrrelated features. Visualize the correlation matrix of a dataset using a heatmap.\n",
    "data = sns.load_dataset('tips')\n",
    "df=data[['total_bill','tip','size']]\n",
    "sns.heatmap(df.corr(), cmap='coolwarm', annot=True)"
   ]
  },
  {
   "cell_type": "code",
   "execution_count": null,
   "id": "20d00ea5-9f54-4588-bff7-5b971c4a3ba9",
   "metadata": {},
   "outputs": [],
   "source": [
    "#PLOTLY ASSIGNMENT"
   ]
  },
  {
   "cell_type": "code",
   "execution_count": null,
   "id": "e72ca758-e4b5-4ac2-9298-0824000c97ba",
   "metadata": {},
   "outputs": [],
   "source": [
    "#Question.1>> Using the given dataset, to generate a 3D scatter plot to visualize the distribution of data points in a three-dimensional space.\n",
    "import numpy as np\n",
    "import pandas as pd\n",
    "import plotly.graph_objects as go\n",
    "import plotly.express as px\n",
    "np.random.seed(30)\n",
    "data = {\n",
    "    'X': np.random.uniform(-10, 10, 300),\n",
    "    'Y': np.random.uniform(-10, 10, 300),\n",
    "    'Z': np.random.uniform(-10,10,300)\n",
    "}\n",
    "df = pd.DataFrame(data)\n",
    "fig = go.Figure()\n",
    "fig.add_trace(go.Scatter3d(x=df.X,y=df.Y,mode = 'lines', z=df.Z))"
   ]
  },
  {
   "cell_type": "code",
   "execution_count": null,
   "id": "8925ef65-8fa4-48ed-9975-f9cccd8078ed",
   "metadata": {},
   "outputs": [],
   "source": [
    "#Question.2>> Using the Student Grades, create a violin plot to display the distribution of scores across different grade categories.\n",
    "np.random.seed(15)\n",
    "data= {\n",
    "    'Grade': np.random.choice(['A','B','C','D','F'],200),\n",
    "    'Score': np.random.randint(50, 100, 200)\n",
    "}\n",
    "df = pd.DataFrame(data)\n",
    "fig = px.violin(df, x='Grade',y='Score',points='all')\n",
    "fig.show()"
   ]
  },
  {
   "cell_type": "code",
   "execution_count": null,
   "id": "74b7b86f-84c2-4ebe-b288-1c7eb3414b92",
   "metadata": {},
   "outputs": [],
   "source": [
    "#Question.3>> Using the sales data, generate a heatmap to visualize the variation in sales across different months and days.\n",
    "#1st method\n",
    "np.random.seed(20)\n",
    "d = { \n",
    "    'Month': np.random.choice(['Jan','Feb','Mar','Apr','May'], 100),\n",
    "    'Day' : np.random.choice(range(1,31), 100),\n",
    "    'Sales': np.random.randint(1000, 5000, 100)\n",
    "}\n",
    "df = pd.DataFrame(d)\n",
    "new_df = df.groupby(['Sales','Month'])['Day'].count().reset_index()\n",
    "new_df = new_df.pivot(index = 'Month', columns='Sales')['Day'].fillna(0)\n",
    "fig = px.imshow(new_df, x=new_df.columns, y=new_df.index)\n",
    "fig.update_layout(width=500, height=500)\n",
    "fig.show()\n",
    "\n"
   ]
  },
  {
   "cell_type": "code",
   "execution_count": null,
   "id": "d1f3b648-5522-4d01-bfdc-1ccb01ee68dd",
   "metadata": {},
   "outputs": [],
   "source": [
    "#2nd method\n",
    "np.random.seed(20)\n",
    "d = { \n",
    "    'Month': np.random.choice(['Jan','Feb','Mar','Apr','May'], 100),\n",
    "    'Day' : np.random.choice(range(1,31), 100),\n",
    "    'Sales': np.random.randint(1000, 5000, 100)\n",
    "}\n",
    "df = pd.DataFrame(d)\n",
    "fig=px.imshow(df)\n",
    "fig.show()"
   ]
  },
  {
   "cell_type": "code",
   "execution_count": null,
   "id": "faaf8a49-2e23-4b44-ba19-79ea8645efaa",
   "metadata": {},
   "outputs": [],
   "source": [
    "#Question.4>> Using the given x and y data , generate a 3D surface plot to visualize the function z=sin(x**2+y**2)**0.5\n",
    "import plotly.graph_objects as go\n",
    "x = np.linspace(-5, 5, 100)\n",
    "y= np.linspace(-5, 5, 100)\n",
    "x, y = np.meshgrid(x,y)\n",
    "z = np.sin(np.sqrt(x**2 + y**2))\n",
    "\n",
    "data = {\n",
    "    'X' : x.flatten(),\n",
    "    'Y' : y.flatten(),\n",
    "    'Z' : z.flatten()\n",
    "}\n",
    "df = pd.DataFrame(data)\n",
    "x_data=df['X'].values\n",
    "y_data=df['Y'].values\n",
    "z_data=df['Z'].values\n",
    "fig = go.Figure(data=[go.Surface(x=x_data,y=y_data,z=z_data)])\n",
    "fig.show()\n"
   ]
  },
  {
   "cell_type": "code",
   "execution_count": null,
   "id": "a370e1bd-2321-4b96-b0e3-8d7cef9cc3d8",
   "metadata": {},
   "outputs": [],
   "source": [
    "#Question.5>> Using the given dataset, create a bubble chart to represent each country's population (y-axis),  GDP (x-axis). and\n",
    "# bubble size proportional to the population.\n",
    "np.random.seed(25)\n",
    "data = {\n",
    "    'Country' : ['USA', 'Canada', 'UK', 'Germany', 'France'],\n",
    "    'Population' : np.random.randint(100, 1000, 5),\n",
    "    'GDP' : np.random.randint(500, 2000, 5)\n",
    "}\n",
    "df = pd.DataFrame(data)\n",
    "#df\n",
    "fig = px.scatter(df.query('Country==Country'),x='GDP', y='Population', size='Population', hover_name='Country', log_x=True, size_max=60)\n",
    "fig.show()\n",
    "            \n",
    "    "
   ]
  },
  {
   "cell_type": "code",
   "execution_count": null,
   "id": "d0046775-5164-4a67-8eee-9608dbc2441d",
   "metadata": {},
   "outputs": [],
   "source": [
    "#BOKEH ASSIGNMENT"
   ]
  },
  {
   "cell_type": "code",
   "execution_count": null,
   "id": "3ac55390-d80b-4a9a-9e23-a7880da889db",
   "metadata": {},
   "outputs": [],
   "source": [
    "#Question.1>> Create a Bokeh plot displaying a sine wave. Set x-values from 0 to 10 and y-values as the sine of x.\n",
    "import numpy as np\n",
    "import bokeh.io\n",
    "import bokeh.plotting\n",
    "bokeh.io.output_notebook()\n",
    "from numpy import pi, sin, linspace\n",
    "from bokeh.plotting import figure, output_file, show\n",
    "\n",
    "fig = figure(width=800, height=400)\n",
    "x=[0,1,2,3,4,5,6,7,8,9,10]\n",
    "y=sin(x)\n",
    "fig.line(x,y, legend_label='sin-wave', alpha=0.5, color='red')\n",
    "#output_file('export.html')\n",
    "show(fig)"
   ]
  },
  {
   "cell_type": "code",
   "execution_count": null,
   "id": "c36ed280-df88-4992-a15e-ed57d4f6ee73",
   "metadata": {},
   "outputs": [],
   "source": [
    "#Question.2>> Create a Bokeh scatter plot using randomly generated x and y values. Use different sizes and colors for the markers based\n",
    "# on the 'sizes' and 'colors' columns.\n",
    "x=np.random.randint(0,20,10)\n",
    "y=np.random.randint(21,50,15)\n",
    "p=figure(title='scatter')\n",
    "p.scatter(x,y, size=20, fill_color='red', legend_label = 'scatter_plot')\n",
    "show(p)"
   ]
  },
  {
   "cell_type": "code",
   "execution_count": null,
   "id": "efce2536-2d26-4c29-aa60-a6a360e63c6b",
   "metadata": {},
   "outputs": [],
   "source": [
    "#Question.3>> Generate a Bokeh bar chart representing the counts of different fruit using the following dataset.\n",
    "from bokeh.plotting import figure, show\n",
    "fruits = ['Apple', 'Orange', 'Bananas', 'Pears']\n",
    "counts = [20, 25, 30, 35]\n",
    "p=figure(x_range=fruits, height=350, title='Fruit Counts',toolbar_location=None, tools=' ')\n",
    "p.vbar(x=fruits, top=counts ,width=0.9)\n",
    "p.xgrid.grid_line_color = 'red'\n",
    "p.y_range.start = 0\n",
    "show(p)"
   ]
  },
  {
   "cell_type": "code",
   "execution_count": null,
   "id": "82699cd7-d052-4fd2-afcb-94fc27a6ae74",
   "metadata": {},
   "outputs": [],
   "source": [
    "#Question.4>> Create a Bokeh histogram to visualize the distribution of the given data.\n",
    "data_hist = np.random.randn(1000)\n",
    "hist, edges = np.histogram(data_hist, bins=30)\n",
    "fig=figure(width=670, height=400,toolbar_location=None,title='my histogram plot')\n",
    "fig.quad(top=hist, bottom=0, left=edges[ :-1], right=edges[1:],fill_color='purple', line_color='white', legend_label='histogram_plot')\n",
    "fig.y_range.start=0\n",
    "show(fig)"
   ]
  },
  {
   "cell_type": "code",
   "execution_count": null,
   "id": "4315bc93-ce23-4838-97ea-b3f3445d7a96",
   "metadata": {},
   "outputs": [],
   "source": [
    "#Question.5>> Create a Bokeh heatmap using the provided dataset. \n",
    "import pandas as pd\n",
    "import numpy as np\n",
    "import bokeh.io\n",
    "import bokeh.plotting\n",
    "bokeh.io.output_notebook()\n",
    "from numpy import pi, sin, linspace\n",
    "from bokeh.plotting import figure, output_file, show\n",
    "data_heatmap = np.random.rand(10,10)\n",
    "x = np.linspace(0, 1, 10)\n",
    "y = np.linspace(0, 1, 10)\n",
    "xx, yy = np.meshgrid(x,y)\n",
    "df = pd.DataFrame({'x': xx.flatten(), 'y': yy.flatten(), 'z': data_heatmap.flatten()})\n",
    "\n",
    "source = ColumnDataSource(df)\n",
    "\n",
    "mapper = linear_cmap(field_name='z', palette=Spectral6, low=min(data_heatmap.flatten()), high=max(data_heatmap.flatten()))\n",
    "\n",
    "p = figure(x_range=(0, 1), y_range=(0, 1), toolbar_location=None)\n",
    "\n",
    "p.rect(x='x', y='y', width=0.1, height=0.1, fill_color=mapper, line_color=None, source=source)\n",
    "\n",
    "output_notebook()\n",
    "\n",
    "show(p)"
   ]
  }
 ],
 "metadata": {
  "kernelspec": {
   "display_name": "Python 3 (ipykernel)",
   "language": "python",
   "name": "python3"
  },
  "language_info": {
   "codemirror_mode": {
    "name": "ipython",
    "version": 3
   },
   "file_extension": ".py",
   "mimetype": "text/x-python",
   "name": "python",
   "nbconvert_exporter": "python",
   "pygments_lexer": "ipython3",
   "version": "3.12.5"
  }
 },
 "nbformat": 4,
 "nbformat_minor": 5
}
